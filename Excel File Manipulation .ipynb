{
 "cells": [
  {
   "cell_type": "markdown",
   "metadata": {},
   "source": [
    "# Excel File Manipulation for Sample Upload"
   ]
  },
  {
   "cell_type": "code",
   "execution_count": 4,
   "metadata": {
    "scrolled": true
   },
   "outputs": [
    {
     "name": "stdout",
     "output_type": "stream",
     "text": [
      "       FirstName      LastName Company Channel Gender          RepondentName\n",
      "NoID                                                                        \n",
      "1          Liam        Smith        C1       1      1          Liam  Smith  \n",
      "2          Noah      Johnson        C2       1      1        Noah  Johnson  \n",
      "3       William     Williams        C3       1      1    William  Williams  \n",
      "4         James        Jones        C4       1      2         James  Jones  \n",
      "5        Oliver        Brown        C5       1      2        Oliver  Brown  \n",
      "6      Benjamin        Davis        C6       1      2      Benjamin  Davis  \n",
      "7        Elijah       Miller        C7       3      2       Elijah  Miller  \n",
      "8         Lucas       Wilson        C8       3      1        Lucas  Wilson  \n",
      "9         Mason        Moore        C9       3      1         Mason  Moore  \n",
      "10        Logan       Taylor       C10       3      1        Logan  Taylor  \n",
      "11    Alexander     Anderson       C11       3      1  Alexander  Anderson  \n",
      "12        Ethan       Thomas       C12       3      2        Ethan  Thomas  \n",
      "13        Jacob      Jackson       C13       2      2       Jacob  Jackson  \n",
      "14          Emma       White       C14       2      2           Emma White  \n",
      "15        Olivia      Harris       C15       2      1        Olivia Harris  \n",
      "16           Ava      Martin       C16       2      1           Ava Martin  \n",
      "17      Isabella    Thompson       C17       1      1    Isabella Thompson  \n",
      "18        Sophia      Garcia       C18       1      1        Sophia Garcia  \n",
      "19     Charlotte    Martinez       C19       1      2   Charlotte Martinez  \n",
      "20           Mia    Robinson       C20       1      2         Mia Robinson  \n",
      "21        Amelia       Clark       C21       2      1         Amelia Clark  \n",
      "22        Harper   Rodriguez       C22       1      1     Harper Rodriguez  \n",
      "23        Evelyn       Lewis       C23       1      2         Evelyn Lewis  \n",
      "24       Abigail         Lee       C24       3      2          Abigail Lee  \n",
      "25         Emily      Walker       C25       1      1         Emily Walker  \n",
      "26     Elizabeth        Hall       C26       2      1       Elizabeth Hall  \n",
      "27          Mila       Allen       C27       1      2           Mila Allen  \n",
      "28          Ella       Young       C28       1      2           Ella Young  \n",
      "29         Avery   Hernandez       C29       3      1      Avery Hernandez  \n",
      "30         Sofia        King       C30       1      1           Sofia King  \n",
      "31        Camila      Wright       C31       2      2        Camila Wright  \n"
     ]
    }
   ],
   "source": [
    "import pandas as pd\n",
    "\n",
    "#Import the Excel File\n",
    "#place \"r\" before the path string to address special character, such as '\\'. \n",
    "#Don't forget to put the file name at the end of the path + '.xlsx:\n",
    "df = pd.read_excel (r'C:\\Users\\pante\\Documents\\Python Scripts\\Python\\Sample.xlsx') \n",
    "\n",
    "#Set index to the variables No.Id:\n",
    "df.set_index('NoID', inplace=True)\n",
    "\n",
    "# Clean the variables first name and last name so that we can keep everything that is after the '.' symbol:\n",
    "df['First Name'] = df['First Name'].str.split('. ').str[1]\n",
    "df['Last Name'] = df['Last Name'].str.split('.').str[1]\n",
    "\n",
    "#Rename the columns so that you can later import it into Confirmit or other software:\n",
    "df.rename(columns = {'First Name':'FirstName', 'Last Name':'LastName'}, inplace=True)\n",
    "\n",
    "#Create Respondent Name by concatenating first name with last name:\n",
    "df['RepondentName'] = df['FirstName']+df['LastName']\n",
    "\n",
    "#Replace Channel with values to import it into a software:\n",
    "df['Channel'].replace(['Online','Web'],'1', inplace=True)\n",
    "df['Channel'].replace('Phone','2', inplace=True)\n",
    "df['Channel'].replace('Post','3', inplace=True)\n",
    "\n",
    "#Make lower cases in the Gender col:\n",
    "df['Gender'] = df['Gender'].str.lower()\n",
    "#Strip will remove all whitespaces in the string\n",
    "df['Gender'] = df['Gender'].str.strip()\n",
    "\n",
    "#replace Gender with values:\n",
    "df['Gender'].replace('male',\"1\", inplace=True)\n",
    "df['Gender'].replace('female',\"2\", inplace=True)\n",
    "print (df)\n",
    "    \n",
    "#Concatenate string based on condition:\n",
    "\n",
    "df['RepondentName'][0] = df['Gender'].apply(lambda x: 'Mr'+' '+df['RepondentName'] if x == '1' else 'Ms'+' '+df['RepondentName'])\n",
    "\n",
    "#Export the file back to Excel\n",
    "df.to_excel(r'C:\\Users\\pante\\Documents\\Python Scripts\\Python\\aNewSample.xlsx', index = False)\n"
   ]
  },
  {
   "cell_type": "code",
   "execution_count": null,
   "metadata": {},
   "outputs": [],
   "source": []
  },
  {
   "cell_type": "code",
   "execution_count": null,
   "metadata": {},
   "outputs": [],
   "source": []
  }
 ],
 "metadata": {
  "kernelspec": {
   "display_name": "Python 3",
   "language": "python",
   "name": "python3"
  },
  "language_info": {
   "codemirror_mode": {
    "name": "ipython",
    "version": 3
   },
   "file_extension": ".py",
   "mimetype": "text/x-python",
   "name": "python",
   "nbconvert_exporter": "python",
   "pygments_lexer": "ipython3",
   "version": "3.7.6"
  }
 },
 "nbformat": 4,
 "nbformat_minor": 4
}
